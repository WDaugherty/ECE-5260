{
 "cells": [
  {
   "cell_type": "markdown",
   "metadata": {},
   "source": [
    "# Utilities \n",
    "\n",
    "Imports commonly used libraries and other helpful functions\n"
   ]
  },
  {
   "cell_type": "code",
   "execution_count": 1,
   "metadata": {},
   "outputs": [],
   "source": [
    "#Imports Libraries \n",
    "\n",
    "# complex networks package - guide https://networkx.org/ \n",
    "import networkx as nx\n",
    "\n",
    "# visualization packages - https://matplotlib.org/ \n",
    "import matplotlib.pyplot as plt\n",
    "%matplotlib inline\n",
    "from networkx.drawing.nx_agraph import graphviz_layout\n",
    "\n",
    "# n-dinsional array tool - https://numpy.org/ \n",
    "import numpy as np\n",
    "\n",
    "import pygraphviz\n",
    "\n",
    "import matplotlib.colors as mcolors\n",
    "\n",
    "import scipy as sc\n",
    "\n",
    "from scipy.io import mmread\n",
    "\n",
    "from typing import Iterable\n",
    "# for Notebook\n",
    "%matplotlib inline"
   ]
  },
  {
   "cell_type": "code",
   "execution_count": null,
   "metadata": {},
   "outputs": [],
   "source": [
    "def draw(G, pos, measures, measure_name):\n",
    "    \n",
    "    nodes = nx.draw_networkx_nodes(G, pos, node_size=250, cmap=plt.cm.plasma, \n",
    "                                   node_color=list(measures.values()),\n",
    "                                   nodelist=measures.keys())\n",
    "    nodes.set_norm(mcolors.SymLogNorm(linthresh=0.01, linscale=1, base=10))\n",
    "    # labels = nx.draw_networkx_labels(G, pos)\n",
    "    edges = nx.draw_networkx_edges(G, pos)\n",
    "\n",
    "    plt.title(measure_name)\n",
    "    plt.colorbar(nodes)\n",
    "    \n",
    "    plt.axis('off')\n",
    "    plt.show()"
   ]
  },
  {
   "cell_type": "markdown",
   "metadata": {},
   "source": [
    "# Question 1\n",
    "\n",
    "SIR Models"
   ]
  },
  {
   "cell_type": "markdown",
   "metadata": {},
   "source": [
    "## Graph Ingesting \n"
   ]
  },
  {
   "cell_type": "code",
   "execution_count": null,
   "metadata": {},
   "outputs": [],
   "source": [
    "#Ingest edgelist as DiGraph\n",
    "\n",
    "G1 = nx.read_edgelist(path = \"/Users/wdaugherty/ECE 5260/ECE-5260-Graph-Based-Data-Science-for-Networked-Systems/BiWeekly2/hospital_edge-1.txt\", create_using=nx.DiGraph())\n",
    "\n",
    "plt.figure(figsize = (10,10))\n",
    "nx.draw_circular(G,with_labels = False, node_size =10, edge_color = \"grey\")\n",
    "plt.show()"
   ]
  },
  {
   "cell_type": "markdown",
   "metadata": {},
   "source": [
    "## SIR Simulation \n",
    "\n",
    "Finding the finite difference method to calculate the evolution of the probability of infection"
   ]
  },
  {
   "cell_type": "code",
   "execution_count": null,
   "metadata": {},
   "outputs": [],
   "source": [
    "\"\"\"\n",
    "Description: Usese the finite difference method to calculate the finite difference\n",
    "the evolution of the probability of infection. This\n",
    "\n",
    "Using the following formula:\n",
    "    \\dot{x}_i(t) = \\frac{x_i(t+1)-x_i(t)}{dt} = \\sigma_{j \\in N_i}\\frac{\\Beta}{di}(1-x_i())x_j(t)-\\gamma(x_i(t))\n",
    "           = \\frac{\\Beta}{d_i}(1-x_i(t))\\sigma_{j \\in N_i}x_j(t)- \\gamma(x_i(t))\n",
    "\n",
    "Notes: \n",
    "    d_i is the degree of node i \n",
    "    x_i(0) = 1 for some i chosen uniformly\n",
    "    x_j = 0 for all other nodes\n",
    "    We randomly choose an infected node to begin the process \n",
    "    d_t is the set to equal to 1 \n",
    "\n",
    "Args:\n",
    "    G: undirected graph G\n",
    "    Beta: float values greater than 0.0\n",
    "    Gamma: float values greater than 0.0\n",
    "\n",
    "Output:\n",
    "    res: list of values over time given the infection rate\n",
    "\"\"\"\n",
    "\n",
    "def SIR_Sim(G, Beta, Gamma):\n",
    "\n",
    "    #Creates an empty list for the results\n",
    "    res = []\n",
    "\n",
    "    #Time \n",
    "    t = 100\n",
    "\n",
    "    #Chooses an initial infected node \n",
    "    x_i = np.random.choice(list(G.nodes()))\n",
    "\n",
    "    #Complement of Infect\n",
    "    x_j = list(G.nodes()).remove(x_i)\n",
    "\n",
    "    #For loop to iterate over time \n",
    "    for t in range(t):\n",
    "        \n",
    "        #Summation loop with local tmeporatry variable \n",
    "        temp1 = []\n",
    "        for i in x_j:\n",
    "            temp += i - Gamma*x_i\n",
    "\n",
    "        #Final equality \n",
    "        temp2 = (Beta / G.degree(x_i) * (1 - x_j(t)))* temp1\n",
    "\n",
    "         \n",
    "        #Adds to the list\n",
    "        res.append(temp2)\n",
    "    return res "
   ]
  },
  {
   "cell_type": "code",
   "execution_count": null,
   "metadata": {},
   "outputs": [],
   "source": [
    "#Creates a list of beta values to be tried in the simulation models\n",
    "beta_list = [0.2,0.5, 0.9]\n",
    "\n",
    "#Calls the SIR Simulation Function \n",
    "for i in beta_list:\n",
    "    SIR_Sim(G, i, 0.1)"
   ]
  },
  {
   "cell_type": "markdown",
   "metadata": {},
   "source": [
    "## SI Simulation"
   ]
  },
  {
   "cell_type": "code",
   "execution_count": null,
   "metadata": {},
   "outputs": [],
   "source": [
    "\"\"\"\n",
    "Description:\n",
    "\n",
    "Args:\n",
    "\n",
    "Output:\n",
    "\"\"\"\n",
    "\n",
    "def SI_Sim():\n",
    "\n",
    "    res = []\n",
    "    \n",
    "    return res "
   ]
  },
  {
   "cell_type": "markdown",
   "metadata": {},
   "source": [
    "# Question 2\n",
    "\n",
    "Hengselmann-Krause bounded confidence model"
   ]
  },
  {
   "cell_type": "markdown",
   "metadata": {},
   "source": [
    "## Ingesting the data"
   ]
  },
  {
   "cell_type": "code",
   "execution_count": 2,
   "metadata": {},
   "outputs": [
    {
     "data": {
      "image/png": "[encoded data removed]",
      "text/plain": [
       "<Figure size 432x288 with 1 Axes>"
      ]
     },
     "metadata": {},
     "output_type": "display_data"
    }
   ],
   "source": [
    "G2 = nx.read_edgelist('rt-retweet.mtx')# Load data here\n",
    "nx.draw(G2, node_size = 200) #draw initial graph "
   ]
  },
  {
   "cell_type": "markdown",
   "metadata": {},
   "source": [
    "## Simulating the Confidence Model"
   ]
  },
  {
   "cell_type": "code",
   "execution_count": 53,
   "metadata": {},
   "outputs": [
    {
     "name": "stderr",
     "output_type": "stream",
     "text": [
      "/var/folders/87/6bfjhdg13952r0hbf93s28b40000gn/T/ipykernel_67589/4284174230.py:44: RuntimeWarning: invalid value encountered in double_scalars\n",
      "  x[i,t+1] = sum_num / sum_denum\n"
     ]
    }
   ],
   "source": [
    "tau = 0.1\n",
    "time = 1000\n",
    "\n",
    "#Find max degree\n",
    "\n",
    "max_degree = 0\n",
    "for node in G2.nodes:\n",
    "    if G2.degree(node) > max_degree:\n",
    "        max_degree = G2.degree(node)\n",
    "alpha = 0.5/max_degree\n",
    "\n",
    "#Common defintions \n",
    "nodes = list(G2.nodes())\n",
    "n = len(nodes)\n",
    "\n",
    "#Find the random walk laplacian\n",
    "L = np.zeros((n, n))\n",
    "for l in range(n):\n",
    "    for m in range(n):\n",
    "        if l == m:\n",
    "            L[l][m] = 1\n",
    "        elif G2.has_edge(nodes[l], nodes[m]) == True:\n",
    "            L[l][m] = -1/G2.degree(nodes[l])\n",
    "\n",
    "#Find the mixing matrix              \n",
    "w = np.add(np.multiply(1-alpha,np.eye(n)), np.multiply(-alpha,L))\n",
    "x = np.random.random((n, time))\n",
    "\n",
    "\n",
    "#HK Confidence\n",
    "for t in range(time-1):\n",
    "    for i in range(n):\n",
    "        sum_num = 0\n",
    "        sum_denum = 0\n",
    "        for j in range(n): \n",
    "            if i ==j:\n",
    "                continue\n",
    "            x_i = x[i][t]\n",
    "            x_j = x[j][t]\n",
    "            d_ij = np.abs(x_i - x_j)\n",
    "            u_tau = 1 if d_ij <= tau else 0\n",
    "            sum_num += (w[i][j]) * u_tau * x_j\n",
    "            sum_denum += (w[i][j]) * u_tau\n",
    "        x[i,t+1] = sum_num / sum_denum"
   ]
  },
  {
   "cell_type": "code",
   "execution_count": 54,
   "metadata": {},
   "outputs": [
    {
     "data": {
      "image/png": "[encoded data removed]",
      "text/plain": [
       "<Figure size 432x288 with 1 Axes>"
      ]
     },
     "metadata": {
      "needs_background": "light"
     },
     "output_type": "display_data"
    }
   ],
   "source": [
    "for k in range(len(list(G2.nodes()))):\n",
    "    plt.plot(x[k,:].T)\n",
    "plt.show()"
   ]
  },
  {
   "cell_type": "code",
   "execution_count": 36,
   "metadata": {},
   "outputs": [],
   "source": [
    "G2 = nx.read_edgelist(\"rt-retweet.mtx\")\n",
    "\n",
    "\n",
    "\n",
    "def HKrause(G, T, iota):\n",
    "    \n",
    "    def u(iota, x):\n",
    "        if x<=iota:\n",
    "            return 1\n",
    "        else:\n",
    "            return 0\n",
    "    \n",
    "    nodes = list(G.nodes())\n",
    "    N = len(nodes)\n",
    "    x = np.random.random((N, T))\n",
    "    \n",
    "    max_degree = 0\n",
    "    for node in G.nodes:\n",
    "        if G.degree(node) > max_degree:\n",
    "            max_degree = G.degree(node)\n",
    "    alpha = 0.5/max_degree\n",
    "    \n",
    "    L = np.zeros((N, N))\n",
    "    for i in range(N):\n",
    "        for j in range(N):\n",
    "            if i == j:\n",
    "                L[i][j] = 1\n",
    "            elif G.has_edge(nodes[i], nodes[j]) == True:\n",
    "                L[i][j] = -1/G.degree(nodes[i])\n",
    "    W = np.add(np.multiply(1-alpha, np.eye(N)), np.multiply(-alpha, L))    \n",
    "    \n",
    "    for t in range(T-1):\n",
    "        for i in range(N):\n",
    "            sum1 = 0\n",
    "            sum2 = 0\n",
    "            for j in range(N):\n",
    "                sum1 += W[i][j]*u(iota, abs(x[i][t] - x[j][t])) * x[j][t]\n",
    "                sum2 += W[i][j]*u(iota, abs(x[i][t] - x[j][t]))\n",
    "            x[i][t+1] = sum1/sum2\n",
    "    return x"
   ]
  },
  {
   "cell_type": "code",
   "execution_count": 51,
   "metadata": {},
   "outputs": [
    {
     "data": {
      "image/png": "[encoded data removed]",
      "text/plain": [
       "<Figure size 432x288 with 1 Axes>"
      ]
     },
     "metadata": {
      "needs_background": "light"
     },
     "output_type": "display_data"
    }
   ],
   "source": [
    "#Draw the graphs\n",
    "x = HKrause(G2,1000, 0.1)\n",
    "for k in range(len(list(G2.nodes()))):\n",
    "    plt.plot(x[k,:].T)\n",
    "plt.show()"
   ]
  },
  {
   "cell_type": "markdown",
   "metadata": {},
   "source": [
    "# Question 3 \n",
    "\n",
    "Electric Grid Simulation "
   ]
  },
  {
   "cell_type": "markdown",
   "metadata": {},
   "source": [
    "## Ingesting the data"
   ]
  },
  {
   "cell_type": "code",
   "execution_count": null,
   "metadata": {},
   "outputs": [],
   "source": []
  },
  {
   "cell_type": "markdown",
   "metadata": {},
   "source": [
    "## Apparent Power Generations"
   ]
  },
  {
   "cell_type": "code",
   "execution_count": null,
   "metadata": {},
   "outputs": [],
   "source": []
  },
  {
   "cell_type": "markdown",
   "metadata": {},
   "source": [
    "## DC Power Flow"
   ]
  },
  {
   "cell_type": "markdown",
   "metadata": {},
   "source": [
    "### Calculate the active (real) power injections"
   ]
  },
  {
   "cell_type": "code",
   "execution_count": null,
   "metadata": {},
   "outputs": [],
   "source": []
  },
  {
   "cell_type": "markdown",
   "metadata": {},
   "source": [
    "### Compute Voltage Angles"
   ]
  },
  {
   "cell_type": "code",
   "execution_count": null,
   "metadata": {},
   "outputs": [],
   "source": []
  },
  {
   "cell_type": "markdown",
   "metadata": {},
   "source": [
    "## Optimal Power Flow"
   ]
  },
  {
   "cell_type": "markdown",
   "metadata": {},
   "source": [
    "### Importing the data "
   ]
  },
  {
   "cell_type": "code",
   "execution_count": null,
   "metadata": {},
   "outputs": [],
   "source": []
  },
  {
   "cell_type": "markdown",
   "metadata": {},
   "source": [
    "### AC Optimal Power Flow"
   ]
  },
  {
   "cell_type": "code",
   "execution_count": null,
   "metadata": {},
   "outputs": [],
   "source": []
  },
  {
   "cell_type": "markdown",
   "metadata": {},
   "source": [
    "### Solve for the Optimal g"
   ]
  },
  {
   "cell_type": "code",
   "execution_count": null,
   "metadata": {},
   "outputs": [],
   "source": []
  }
 ],
 "metadata": {
  "kernelspec": {
   "display_name": "Python 3.9.12 ('ECE5260')",
   "language": "python",
   "name": "python3"
  },
  "language_info": {
   "codemirror_mode": {
    "name": "ipython",
    "version": 3
   },
   "file_extension": ".py",
   "mimetype": "text/x-python",
   "name": "python",
   "nbconvert_exporter": "python",
   "pygments_lexer": "ipython3",
   "version": "3.9.12"
  },
  "orig_nbformat": 4,
  "vscode": {
   "interpreter": {
    "hash": "76a33d3d7216999da3b78ff763eb57d287db597217ee0040a7c79c5f8c324a68"
   }
  }
 },
 "nbformat": 4,
 "nbformat_minor": 2
}
