{
 "cells": [
  {
   "cell_type": "markdown",
   "id": "4954db54",
   "metadata": {},
   "source": [
    "# Coding Portion"
   ]
  },
  {
   "cell_type": "code",
   "execution_count": 1,
   "id": "a17c8b35",
   "metadata": {},
   "outputs": [],
   "source": [
    "#Import necessary libraries \n",
    "import networkx as nx\n",
    "import matplotlib.pyplot as plt\n",
    "%matplotlib inline\n",
    "from networkx.drawing.nx_agraph import graphviz_layout\n",
    "import numpy as np\n",
    "import pygraphviz\n",
    "import matplotlib.colors as mcolors\n",
    "import scipy.sparse\n",
    "import scipy.linalg as sc\n",
    "import numpy.typing as npt\n",
    "import random as rd\n",
    "from sympy import Matrix"
   ]
  },
  {
   "cell_type": "code",
   "execution_count": 2,
   "id": "5d3cb847",
   "metadata": {},
   "outputs": [
    {
     "name": "stdout",
     "output_type": "stream",
     "text": [
      "Requirement already satisfied: networkx==2.7 in /Users/wdaugherty/opt/anaconda3/envs/ECE5260/lib/python3.9/site-packages (2.7)\n",
      "Note: you may need to restart the kernel to use updated packages.\n"
     ]
    }
   ],
   "source": [
    "pip install networkx==2.7"
   ]
  },
  {
   "cell_type": "code",
   "execution_count": 2,
   "id": "e842b145",
   "metadata": {},
   "outputs": [
    {
     "name": "stdout",
     "output_type": "stream",
     "text": [
      "Requirement already satisfied: numpy in /Users/wdaugherty/opt/anaconda3/envs/ECE5260/lib/python3.9/site-packages (1.23.3)\n",
      "Note: you may need to restart the kernel to use updated packages.\n"
     ]
    }
   ],
   "source": [
    "pip install --upgrade numpy"
   ]
  },
  {
   "cell_type": "code",
   "execution_count": 133,
   "id": "a9bc4628",
   "metadata": {},
   "outputs": [],
   "source": [
    "import numpy.typing as npt\n",
    "\n",
    "def bmatrix(a: np.NDArray) -> str:\n",
    "    \"\"\"Returns a LaTeX bmatrix\n",
    "\n",
    "    Args:\n",
    "        a (npt.NDArray): A numpy array\n",
    "        \n",
    "    Returns:\n",
    "        str: A LaTeX bmatrix string representation\n",
    "    \"\"\"\n",
    "    if len(a.shape) > 2:\n",
    "        raise ValueError('bmatrix can at most display two dimensions')\n",
    "    lines = str(a).replace('[', '').replace(']', '').splitlines()\n",
    "    rv = [r'\\begin{bmatrix}']\n",
    "    rv += ['  ' + ' & '.join(l.split()) + r'\\\\' for l in lines]\n",
    "    rv +=  [r'\\end{bmatrix}']\n",
    "    return '\\n'.join(rv)"
   ]
  },
  {
   "cell_type": "markdown",
   "id": "25c27628",
   "metadata": {},
   "source": [
    "## Question 1\n",
    "\n",
    "Finding an incidence matrix"
   ]
  },
  {
   "cell_type": "code",
   "execution_count": 267,
   "id": "c3d19449",
   "metadata": {},
   "outputs": [
    {
     "data": {
      "image/png": "[encoded data removed]",
      "text/plain": [
       "<Figure size 432x288 with 1 Axes>"
      ]
     },
     "metadata": {},
     "output_type": "display_data"
    }
   ],
   "source": [
    "G=nx.Graph()\n",
    "\n",
    "G.add_edge(0,1)\n",
    "G.add_edge(1,2)\n",
    "G.add_edge(2,0)\n",
    "\n",
    "G.add_edge(4,6)\n",
    "G.add_edge(5,6)\n",
    "G.add_edge(4,5)\n",
    "G.add_edge(3,4)\n",
    "G.add_edge(3,6)\n",
    "nx.draw(G, with_labels = True)"
   ]
  },
  {
   "cell_type": "code",
   "execution_count": 135,
   "id": "7cfdfa40",
   "metadata": {},
   "outputs": [
    {
     "name": "stdout",
     "output_type": "stream",
     "text": [
      "\\begin{bmatrix}\n",
      "  0 & 1 & 1 & 0 & 0 & 0 & 0\\\\\n",
      "  1 & 0 & 1 & 0 & 0 & 0 & 0\\\\\n",
      "  1 & 1 & 0 & 0 & 0 & 0 & 0\\\\\n",
      "  0 & 0 & 0 & 0 & 1 & 1 & 1\\\\\n",
      "  0 & 0 & 0 & 1 & 0 & 1 & 1\\\\\n",
      "  0 & 0 & 0 & 1 & 1 & 0 & 0\\\\\n",
      "  0 & 0 & 0 & 1 & 1 & 0 & 0\\\\\n",
      "\\end{bmatrix}\n"
     ]
    },
    {
     "name": "stderr",
     "output_type": "stream",
     "text": [
      "/var/folders/87/6bfjhdg13952r0hbf93s28b40000gn/T/ipykernel_63036/2710636833.py:1: FutureWarning: adjacency_matrix will return a scipy.sparse array instead of a matrix in Networkx 3.0.\n",
      "  A = nx.adjacency_matrix(G).todense()\n"
     ]
    }
   ],
   "source": [
    "A = nx.adjacency_matrix(G).todense()\n",
    "print(bmatrix(A))"
   ]
  },
  {
   "cell_type": "code",
   "execution_count": 136,
   "id": "1318bb86",
   "metadata": {},
   "outputs": [
    {
     "name": "stdout",
     "output_type": "stream",
     "text": [
      "\\begin{bmatrix}\n",
      "  1. & 1. & 0. & 0. & 0. & 0. & 0. & 0.\\\\\n",
      "  1. & 0. & 1. & 0. & 0. & 0. & 0. & 0.\\\\\n",
      "  0. & 1. & 1. & 0. & 0. & 0. & 0. & 0.\\\\\n",
      "  0. & 0. & 0. & 1. & 1. & 1. & 0. & 0.\\\\\n",
      "  0. & 0. & 0. & 1. & 0. & 0. & 1. & 1.\\\\\n",
      "  0. & 0. & 0. & 0. & 1. & 0. & 1. & 0.\\\\\n",
      "  0. & 0. & 0. & 0. & 0. & 1. & 0. & 1.\\\\\n",
      "\\end{bmatrix}\n"
     ]
    },
    {
     "name": "stderr",
     "output_type": "stream",
     "text": [
      "/var/folders/87/6bfjhdg13952r0hbf93s28b40000gn/T/ipykernel_63036/1498036631.py:1: FutureWarning: incidence_matrix will return a scipy.sparse array instead of a matrix in Networkx 3.0.\n",
      "  I1 = nx.incidence_matrix(G).todense()\n"
     ]
    }
   ],
   "source": [
    "I1 = nx.incidence_matrix(G).todense()\n",
    "print(bmatrix(I1))"
   ]
  },
  {
   "cell_type": "code",
   "execution_count": 137,
   "id": "8fd7f13b",
   "metadata": {},
   "outputs": [
    {
     "name": "stdout",
     "output_type": "stream",
     "text": [
      "\\begin{bmatrix}\n",
      "  2 & -1 & -1 & 0 & 0 & 0 & 0\\\\\n",
      "  -1 & 2 & -1 & 0 & 0 & 0 & 0\\\\\n",
      "  -1 & -1 & 2 & 0 & 0 & 0 & 0\\\\\n",
      "  0 & 0 & 0 & 3 & -1 & -1 & -1\\\\\n",
      "  0 & 0 & 0 & -1 & 3 & -1 & -1\\\\\n",
      "  0 & 0 & 0 & -1 & -1 & 2 & 0\\\\\n",
      "  0 & 0 & 0 & -1 & -1 & 0 & 2\\\\\n",
      "\\end{bmatrix}\n"
     ]
    }
   ],
   "source": [
    "L1 = nx.laplacian_matrix(G).todense()\n",
    "print(bmatrix(L1))"
   ]
  },
  {
   "cell_type": "code",
   "execution_count": 140,
   "id": "cab5d6e2",
   "metadata": {},
   "outputs": [
    {
     "name": "stdout",
     "output_type": "stream",
     "text": [
      "\\begin{bmatrix}\n",
      "  2 & -1 & -1 & 0 & 0 & 0 & 0\\\\\n",
      "  -1 & 2 & -1 & 0 & 0 & 0 & 0\\\\\n",
      "  -1 & -1 & 2 & 0 & 0 & 0 & 0\\\\\n",
      "  0 & 0 & 0 & 3 & -1 & -1 & -1\\\\\n",
      "  0 & 0 & 0 & -1 & 3 & -1 & -1\\\\\n",
      "  0 & 0 & 0 & -1 & -1 & 2 & 0\\\\\n",
      "  0 & 0 & 0 & -1 & -1 & 0 & 2\\\\\n",
      "\\end{bmatrix}\n"
     ]
    }
   ],
   "source": [
    "d = np.diag([val for (node, val) in G.degree()])\n",
    "eL1=d-A\n",
    "print(bmatrix(eL1))"
   ]
  },
  {
   "cell_type": "code",
   "execution_count": 141,
   "id": "0a7c3ef2",
   "metadata": {},
   "outputs": [
    {
     "data": {
      "text/plain": [
       "True"
      ]
     },
     "execution_count": 141,
     "metadata": {},
     "output_type": "execute_result"
    }
   ],
   "source": [
    "#Compares the equality of laplacian matrices\n",
    "np.array_equal(L1,eL1)"
   ]
  },
  {
   "cell_type": "code",
   "execution_count": 142,
   "id": "ada02cfe",
   "metadata": {},
   "outputs": [
    {
     "data": {
      "image/png": "[encoded data removed]",
      "text/plain": [
       "<Figure size 432x288 with 1 Axes>"
      ]
     },
     "metadata": {},
     "output_type": "display_data"
    }
   ],
   "source": [
    "H = nx.DiGraph([(0,1),(1,2),(2,0),(6,4),(5,6),(4,5),(3,4),(6,3)])\n",
    "nx.draw(H,with_labels = True)\n"
   ]
  },
  {
   "cell_type": "code",
   "execution_count": 143,
   "id": "a54616d3",
   "metadata": {},
   "outputs": [
    {
     "name": "stderr",
     "output_type": "stream",
     "text": [
      "/var/folders/87/6bfjhdg13952r0hbf93s28b40000gn/T/ipykernel_63036/1341937066.py:1: FutureWarning: adjacency_matrix will return a scipy.sparse array instead of a matrix in Networkx 3.0.\n",
      "  AH = nx.adjacency_matrix(H)\n"
     ]
    },
    {
     "data": {
      "text/plain": [
       "matrix([[0, 1, 0, 0, 0, 0, 0],\n",
       "        [0, 0, 1, 0, 0, 0, 0],\n",
       "        [1, 0, 0, 0, 0, 0, 0],\n",
       "        [0, 0, 0, 0, 1, 0, 1],\n",
       "        [0, 0, 0, 0, 0, 1, 0],\n",
       "        [0, 0, 0, 1, 0, 0, 0],\n",
       "        [0, 0, 0, 0, 1, 0, 0]])"
      ]
     },
     "execution_count": 143,
     "metadata": {},
     "output_type": "execute_result"
    }
   ],
   "source": [
    "AH = nx.adjacency_matrix(H)\n",
    "AH = AH.todense()\n",
    "AH"
   ]
  },
  {
   "cell_type": "code",
   "execution_count": 144,
   "id": "11cdd7de",
   "metadata": {},
   "outputs": [
    {
     "name": "stdout",
     "output_type": "stream",
     "text": [
      "\\begin{bmatrix}\n",
      "  -1. & -1. & 0. & 0. & 0. & 0. & 0. & 0.\\\\\n",
      "  1. & 0. & -1. & 0. & 0. & 0. & 0. & 0.\\\\\n",
      "  0. & 1. & 1. & 0. & 0. & 0. & 0. & 0.\\\\\n",
      "  0. & 0. & 0. & -1. & -1. & -1. & 0. & 0.\\\\\n",
      "  0. & 0. & 0. & 1. & 0. & 0. & -1. & -1.\\\\\n",
      "  0. & 0. & 0. & 0. & 1. & 0. & 1. & 0.\\\\\n",
      "  0. & 0. & 0. & 0. & 0. & 1. & 0. & 1.\\\\\n",
      "\\end{bmatrix}\n"
     ]
    },
    {
     "name": "stderr",
     "output_type": "stream",
     "text": [
      "/var/folders/87/6bfjhdg13952r0hbf93s28b40000gn/T/ipykernel_63036/1918703261.py:1: FutureWarning: incidence_matrix will return a scipy.sparse array instead of a matrix in Networkx 3.0.\n",
      "  B = nx.incidence_matrix(G , oriented = True).todense()\n"
     ]
    }
   ],
   "source": [
    "B = nx.incidence_matrix(G , oriented = True).todense()\n",
    "print(bmatrix(B))"
   ]
  },
  {
   "cell_type": "code",
   "execution_count": 145,
   "id": "b4895f90",
   "metadata": {},
   "outputs": [
    {
     "name": "stdout",
     "output_type": "stream",
     "text": [
      "\\begin{bmatrix}\n",
      "  -1. & 1. & 0. & 0. & 0. & 0. & 0.\\\\\n",
      "  -1. & 0. & 1. & 0. & 0. & 0. & 0.\\\\\n",
      "  0. & -1. & 1. & 0. & 0. & 0. & 0.\\\\\n",
      "  0. & 0. & 0. & -1. & 1. & 0. & 0.\\\\\n",
      "  0. & 0. & 0. & -1. & 0. & 1. & 0.\\\\\n",
      "  0. & 0. & 0. & -1. & 0. & 0. & 1.\\\\\n",
      "  0. & 0. & 0. & 0. & -1. & 1. & 0.\\\\\n",
      "  0. & 0. & 0. & 0. & -1. & 0. & 1.\\\\\n",
      "\\end{bmatrix}\n"
     ]
    }
   ],
   "source": [
    "BT = np.transpose(B)\n",
    "print(bmatrix(BT))"
   ]
  },
  {
   "cell_type": "code",
   "execution_count": 146,
   "id": "040ce996",
   "metadata": {},
   "outputs": [
    {
     "name": "stdout",
     "output_type": "stream",
     "text": [
      "\\begin{bmatrix}\n",
      "  2. & -1. & -1. & 0. & 0. & 0. & 0.\\\\\n",
      "  -1. & 2. & -1. & 0. & 0. & 0. & 0.\\\\\n",
      "  -1. & -1. & 2. & 0. & 0. & 0. & 0.\\\\\n",
      "  0. & 0. & 0. & 3. & -1. & -1. & -1.\\\\\n",
      "  0. & 0. & 0. & -1. & 3. & -1. & -1.\\\\\n",
      "  0. & 0. & 0. & -1. & -1. & 2. & 0.\\\\\n",
      "  0. & 0. & 0. & -1. & -1. & 0. & 2.\\\\\n",
      "\\end{bmatrix}\n"
     ]
    }
   ],
   "source": [
    "eL2 = np.matmul(B,BT)\n",
    "print(bmatrix(eL2))"
   ]
  },
  {
   "cell_type": "code",
   "execution_count": 147,
   "id": "717ebb1f",
   "metadata": {},
   "outputs": [
    {
     "data": {
      "text/plain": [
       "True"
      ]
     },
     "execution_count": 147,
     "metadata": {},
     "output_type": "execute_result"
    }
   ],
   "source": [
    "np.array_equal(L1,eL2)"
   ]
  },
  {
   "cell_type": "code",
   "execution_count": 247,
   "id": "b90809c8",
   "metadata": {},
   "outputs": [
    {
     "name": "stdout",
     "output_type": "stream",
     "text": [
      "[ 3.00000000e+00 -4.44089210e-16  3.00000000e+00  4.00000000e+00\n",
      " -1.11022302e-16  4.00000000e+00  2.00000000e+00]\n"
     ]
    }
   ],
   "source": [
    "evals,evecs = np.linalg.eig(L1)\n",
    "print(evals)"
   ]
  },
  {
   "cell_type": "code",
   "execution_count": 265,
   "id": "22adf4b9",
   "metadata": {},
   "outputs": [
    {
     "name": "stdout",
     "output_type": "stream",
     "text": [
      "\\begin{bmatrix}\n",
      "  0.00000000e+00 & 0.00000000e+00 & 0.00000000e+00 & -2.88675135e-01\\\\\n",
      "  -5.00000000e-01 & 8.43156559e-01 & 2.26623326e-16\\\\\n",
      "\\end{bmatrix}\n"
     ]
    }
   ],
   "source": [
    "print(bmatrix(evecs[4]))"
   ]
  },
  {
   "cell_type": "code",
   "execution_count": 266,
   "id": "78849f76",
   "metadata": {},
   "outputs": [
    {
     "name": "stdout",
     "output_type": "stream",
     "text": [
      "[[0.]\n",
      " [0.]\n",
      " [0.]\n",
      " [0.]\n",
      " [0.]\n",
      " [0.]\n",
      " [0.]]\n"
     ]
    }
   ],
   "source": [
    "#From here we see that the eigenvectors 5\n",
    "print(np.dot(L1, evecs[:,4]))"
   ]
  },
  {
   "cell_type": "code",
   "execution_count": 190,
   "id": "0240f2ec",
   "metadata": {},
   "outputs": [
    {
     "name": "stdout",
     "output_type": "stream",
     "text": [
      "\\begin{bmatrix}\n",
      "  0.00000000e+00 & 0.00000000e+00 & 0.00000000e+00 & 8.66025404e-01\\\\\n",
      "  -5.00000000e-01 & -9.46547200e-02 & 1.35973996e-16\\\\\n",
      "\\end{bmatrix}\n"
     ]
    }
   ],
   "source": [
    "print(bmatrix(evecs[3]))"
   ]
  },
  {
   "cell_type": "code",
   "execution_count": 165,
   "id": "c0ae8d14",
   "metadata": {},
   "outputs": [
    {
     "name": "stdout",
     "output_type": "stream",
     "text": [
      "\\begin{bmatrix}\n",
      "  0.00000000e+00 & 0.00000000e+00 & 0.00000000e+00 & -2.88675135e-01\\\\\n",
      "  -5.00000000e-01 & 8.43156559e-01 & 2.26623326e-16\\\\\n",
      "\\end{bmatrix}\n"
     ]
    }
   ],
   "source": [
    "print(bmatrix(evecs[4]))"
   ]
  },
  {
   "cell_type": "markdown",
   "id": "cb04d5bc",
   "metadata": {},
   "source": [
    "## Question 2\n",
    "Graphs with circular symmetry: Consider an undirected graph with circular\n",
    "symmetry, that is a graph G = (V, E) where V = {0, . . . , N − 1} is the set of nodes and E =\n",
    "{e0, e1, . . . , eN−1} is the set of edges, where e0 = (0, N −1) and ei = (i, i+1), ∀i ∈ {0, . . . , N −2}.\n"
   ]
  },
  {
   "cell_type": "code",
   "execution_count": 197,
   "id": "c33624fd",
   "metadata": {},
   "outputs": [
    {
     "data": {
      "image/png": "[encoded data removed]",
      "text/plain": [
       "<Figure size 432x288 with 1 Axes>"
      ]
     },
     "metadata": {},
     "output_type": "display_data"
    }
   ],
   "source": [
    "#(a) Assume N = 5, write the edge set and draw the graph.\n",
    "G2 = nx.cycle_graph(5)\n",
    "\n",
    "\n",
    "nx.draw(G2)"
   ]
  },
  {
   "cell_type": "code",
   "execution_count": 1,
   "id": "41bd7e1e",
   "metadata": {},
   "outputs": [
    {
     "ename": "NameError",
     "evalue": "name 'np' is not defined",
     "output_type": "error",
     "traceback": [
      "\u001b[0;31m---------------------------------------------------------------------------\u001b[0m",
      "\u001b[0;31mNameError\u001b[0m                                 Traceback (most recent call last)",
      "Input \u001b[0;32mIn [1]\u001b[0m, in \u001b[0;36m<cell line: 9>\u001b[0;34m()\u001b[0m\n\u001b[1;32m      1\u001b[0m \u001b[38;5;66;03m#(b) In lecture 5 Slide 27, we show that for a cycle graph, the eigenvalues of the Laplacian may\u001b[39;00m\n\u001b[1;32m      2\u001b[0m \u001b[38;5;66;03m#be computed without the need to perform an eigendecomposition of the matrix L. Validate\u001b[39;00m\n\u001b[1;32m      3\u001b[0m \u001b[38;5;66;03m#numerically that this statement is correct (hint: you may use numpy’s linalg.eig function to\u001b[39;00m\n\u001b[1;32m      4\u001b[0m \u001b[38;5;66;03m#compute the eigenvalues and eigenvectors of the Laplacian. You can also use numpy’s b\u001b[39;00m\n\u001b[1;32m      5\u001b[0m \u001b[38;5;66;03m#function https: // numpy. org/ doc/ stable/ reference/ generated/ numpy. fft. fft.\u001b[39;00m\n\u001b[1;32m      6\u001b[0m \u001b[38;5;66;03m#html )\u001b[39;00m\n\u001b[0;32m----> 9\u001b[0m xL,yL \u001b[38;5;241m=\u001b[39m \u001b[43mnp\u001b[49m\u001b[38;5;241m.\u001b[39mlinalg\u001b[38;5;241m.\u001b[39meig(nx\u001b[38;5;241m.\u001b[39mlaplacian_matrix(G2)\u001b[38;5;241m.\u001b[39mtodense())\u001b[38;5;241m.\u001b[39msort()\n\u001b[1;32m     10\u001b[0m xL\n",
      "\u001b[0;31mNameError\u001b[0m: name 'np' is not defined"
     ]
    }
   ],
   "source": [
    "#(b) In lecture 5 Slide 27, we show that for a cycle graph, the eigenvalues of the Laplacian may\n",
    "#be computed without the need to perform an eigendecomposition of the matrix L. Validate\n",
    "#numerically that this statement is correct (hint: you may use numpy’s linalg.eig function to\n",
    "#compute the eigenvalues and eigenvectors of the Laplacian. You can also use numpy’s b\n",
    "#function https: // numpy. org/ doc/ stable/ reference/ generated/ numpy. fft. fft.\n",
    "#html )\n",
    "\n",
    "\n",
    "xL,yL = np.linalg.eig(nx.laplacian_matrix(G2).todense()).sort()\n",
    "xL"
   ]
  },
  {
   "cell_type": "code",
   "execution_count": 31,
   "id": "94a0ce6f",
   "metadata": {},
   "outputs": [
    {
     "data": {
      "text/plain": [
       "array([-0.37024052,  0.37325232,  0.60092315, -0.0018614 , -0.60207355])"
      ]
     },
     "execution_count": 31,
     "metadata": {},
     "output_type": "execute_result"
    }
   ],
   "source": [
    "nx.fiedler_vector(G2)"
   ]
  },
  {
   "cell_type": "code",
   "execution_count": 235,
   "id": "9ef8f173",
   "metadata": {},
   "outputs": [
    {
     "data": {
      "text/plain": [
       "[<matplotlib.lines.Line2D at 0x7fca3d511640>]"
      ]
     },
     "execution_count": 235,
     "metadata": {},
     "output_type": "execute_result"
    },
    {
     "data": {
      "image/png": "[encoded data removed]",
      "text/plain": [
       "<Figure size 432x288 with 1 Axes>"
      ]
     },
     "metadata": {
      "needs_background": "light"
     },
     "output_type": "display_data"
    }
   ],
   "source": [
    "#(c) Plot the Fiedler eigenvalue (the second smallest eigenvalue of the Laplacian) for this type\n",
    "#of graph as a function of N = 5 up to 50 with step 5, and explain the trend.\n",
    "def FEplot():\n",
    "    \n",
    "    def FE(N):\n",
    "        G = nx.Graph()\n",
    "        edge_list = [(N-1, 0)]\n",
    "\n",
    "        \n",
    "        for i in range(N-1):\n",
    "            edge_list.append((i, (i+1))) \n",
    "            G.add_edges_from(edge_list)\n",
    "\n",
    "\n",
    "        eigValue = np.sort(np.linalg.eig(nx.laplacian_matrix(G).todense() )[0])[1]\n",
    "        return eigValue\n",
    "    \n",
    "    N = []\n",
    "    Fe = []\n",
    "    i = 5\n",
    "    while i <= 50:\n",
    "        N.append(i)\n",
    "        Fe.append(FE(i))\n",
    "        i += 5\n",
    "\n",
    "    return plt.plot(N, Fe)\n",
    "\n",
    "FEplot()"
   ]
  },
  {
   "cell_type": "code",
   "execution_count": 5,
   "id": "1c577a3a",
   "metadata": {},
   "outputs": [
    {
     "data": {
      "image/png": "[encoded data removed]",
      "text/plain": [
       "<Figure size 432x288 with 1 Axes>"
      ]
     },
     "metadata": {
      "needs_background": "light"
     },
     "output_type": "display_data"
    }
   ],
   "source": [
    "#(d) Now, fix the size of the graph to N = 10. Since you have circular symmetry, you can\n",
    "#explore adding new edges connecting node 1 to the i-th node ∀i ∈ {2, . . . , N − 1}. Thus,\n",
    "#you may add an additional N − 3 edges. Explore numerically the trend of the Fiedler\n",
    "#eigenvalue, as you test the different possible options for the new edges.\n",
    "\n",
    "def FEplot2():\n",
    "    \n",
    "    N = 10\n",
    "    Num = []\n",
    "    Val = []\n",
    "    \n",
    "    def FE2(N, ep):\n",
    "        G = nx.Graph()\n",
    "        edge_list = [(N-1, 0)]\n",
    "        new_edge_list = []\n",
    "        \n",
    "        for i in range(N):\n",
    "            edge_list.append((i, (i+1)%N)) \n",
    "            G.add_edges_from(edge_list)\n",
    "\n",
    "        for i in range(N-3):\n",
    "            new_edge_list.append((1, i+3))\n",
    "            \n",
    "        for i in range(ep):\n",
    "            rand = rd.randint(0,len(new_edge_list)-1)\n",
    "            G.add_edges_from([new_edge_list[rand]]) \n",
    "            new_edge_list.remove(new_edge_list[rand])\n",
    "        \n",
    "        eigValue = np.sort(np.linalg.eig(nx.laplacian_matrix(G).todense() )[0])[1]\n",
    "        return eigValue\n",
    "    \n",
    "    \n",
    "    \n",
    "    for ep in range(N-2):\n",
    "        Num.append(ep)\n",
    "        Val.append(FE2(N, ep))\n",
    "    plt.plot(Num, Val) \n",
    "\n",
    "FEplot2()"
   ]
  },
  {
   "cell_type": "code",
   "execution_count": null,
   "id": "74e69502",
   "metadata": {},
   "outputs": [],
   "source": []
  },
  {
   "cell_type": "code",
   "execution_count": null,
   "id": "efde78ce",
   "metadata": {},
   "outputs": [],
   "source": []
  },
  {
   "cell_type": "code",
   "execution_count": null,
   "id": "e0fa6ae8",
   "metadata": {},
   "outputs": [],
   "source": []
  }
 ],
 "metadata": {
  "kernelspec": {
   "display_name": "Python 3.9.6 64-bit",
   "language": "python",
   "name": "python3"
  },
  "language_info": {
   "codemirror_mode": {
    "name": "ipython",
    "version": 3
   },
   "file_extension": ".py",
   "mimetype": "text/x-python",
   "name": "python",
   "nbconvert_exporter": "python",
   "pygments_lexer": "ipython3",
   "version": "3.9.6"
  },
  "vscode": {
   "interpreter": {
    "hash": "31f2aee4e71d21fbe5cf8b01ff0e069b9275f58929596ceb00d14d90e3e16cd6"
   }
  }
 },
 "nbformat": 4,
 "nbformat_minor": 5
}
