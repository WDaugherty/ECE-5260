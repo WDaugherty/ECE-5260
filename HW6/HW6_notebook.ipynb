{
 "cells": [
  {
   "cell_type": "markdown",
   "metadata": {},
   "source": [
    "# Question 1"
   ]
  },
  {
   "cell_type": "markdown",
   "metadata": {},
   "source": [
    "## Utilities "
   ]
  },
  {
   "cell_type": "code",
   "execution_count": 1,
   "metadata": {},
   "outputs": [],
   "source": [
    "#Imports Libraries \n",
    "\n",
    "# complex networks package - guide https://networkx.org/ \n",
    "import networkx as nx\n",
    "\n",
    "# visualization packages - https://matplotlib.org/ \n",
    "import matplotlib.pyplot as plt\n",
    "%matplotlib inline\n",
    "from networkx.drawing.nx_agraph import graphviz_layout\n",
    "\n",
    "# n-dinsional array tool - https://numpy.org/ \n",
    "import numpy as np\n",
    "\n",
    "import pygraphviz\n",
    "\n",
    "import matplotlib.colors as mcolors\n",
    "\n",
    "import scipy\n",
    "\n",
    "# for Notebook\n",
    "%matplotlib inline\n"
   ]
  },
  {
   "cell_type": "code",
   "execution_count": 2,
   "metadata": {},
   "outputs": [],
   "source": [
    "def draw(G, pos, measures, measure_name):\n",
    "    \n",
    "    nodes = nx.draw_networkx_nodes(G, pos, node_size=250, cmap=plt.cm.plasma, \n",
    "                                   node_color=list(measures.values()),\n",
    "                                   nodelist=measures.keys())\n",
    "    nodes.set_norm(mcolors.SymLogNorm(linthresh=0.01, linscale=1, base=10))\n",
    "    # labels = nx.draw_networkx_labels(G, pos)\n",
    "    edges = nx.draw_networkx_edges(G, pos)\n",
    "\n",
    "    plt.title(measure_name)\n",
    "    plt.colorbar(nodes)\n",
    "    \n",
    "    plt.axis('off')\n",
    "    plt.show()"
   ]
  },
  {
   "cell_type": "markdown",
   "metadata": {},
   "source": [
    "## Ingesting the edgelist"
   ]
  },
  {
   "cell_type": "code",
   "execution_count": 4,
   "metadata": {},
   "outputs": [],
   "source": [
    "#Ingest edgelist as DiGraph\n",
    "\n",
    "DiG = nx.read_edgelist(path = \"/Users/wdaugherty/ECE 5260/ECE-5260-Graph-Based-Data-Science-for-Networked-Systems/HW6/wikispeedia.edgelist\")\n"
   ]
  },
  {
   "cell_type": "markdown",
   "metadata": {},
   "source": [
    "## Identifying max hub and authority value.\n"
   ]
  },
  {
   "cell_type": "code",
   "execution_count": 44,
   "metadata": {},
   "outputs": [
    {
     "name": "stdout",
     "output_type": "stream",
     "text": [
      "('United_States', 0.0044443178061182665)\n"
     ]
    }
   ],
   "source": [
    "#Finds HITS Values\n",
    "\n",
    "h,a = nx.hits(DiG)\n",
    "\n",
    "print(max(h.items(), key = lambda x: x[1]))"
   ]
  },
  {
   "cell_type": "code",
   "execution_count": 49,
   "metadata": {},
   "outputs": [
    {
     "name": "stdout",
     "output_type": "stream",
     "text": [
      "('United_States', 0.004444317806118269)\n"
     ]
    }
   ],
   "source": [
    "print(max(a.items(), key = lambda x: x[1]))"
   ]
  },
  {
   "cell_type": "markdown",
   "metadata": {},
   "source": [
    "## Pagerank"
   ]
  },
  {
   "cell_type": "code",
   "execution_count": 7,
   "metadata": {},
   "outputs": [],
   "source": [
    "#Creates a dict using the NetworkX function \n",
    "dict1 = nx.pagerank(DiG)"
   ]
  },
  {
   "cell_type": "code",
   "execution_count": 13,
   "metadata": {},
   "outputs": [],
   "source": [
    "\"\"\"\n",
    "Custom PageRank\n",
    "\n",
    "\n",
    "Args: \n",
    "    G: Input graph\n",
    "    a: alpha parameter\n",
    "\n",
    "Outputs:\n",
    "    A dictionary with the  PageRank\n",
    "\n",
    "\"\"\"\n",
    "def PageRank(G,a):\n",
    "\n",
    "    res = {}\n",
    "    return res"
   ]
  },
  {
   "cell_type": "code",
   "execution_count": 10,
   "metadata": {},
   "outputs": [
    {
     "ename": "NameError",
     "evalue": "name 'PageRank' is not defined",
     "output_type": "error",
     "traceback": [
      "\u001b[0;31m---------------------------------------------------------------------------\u001b[0m",
      "\u001b[0;31mNameError\u001b[0m                                 Traceback (most recent call last)",
      "\u001b[1;32m/Users/wdaugherty/ECE 5260/ECE-5260-Graph-Based-Data-Science-for-Networked-Systems/HW6/HW6_notebook.ipynb Cell 13\u001b[0m in \u001b[0;36m<cell line: 2>\u001b[0;34m()\u001b[0m\n\u001b[1;32m      <a href='vscode-notebook-cell:/Users/wdaugherty/ECE%205260/ECE-5260-Graph-Based-Data-Science-for-Networked-Systems/HW6/HW6_notebook.ipynb#X21sZmlsZQ%3D%3D?line=0'>1</a>\u001b[0m \u001b[39m#Creates a dict using the custom PageRank function\u001b[39;00m\n\u001b[0;32m----> <a href='vscode-notebook-cell:/Users/wdaugherty/ECE%205260/ECE-5260-Graph-Based-Data-Science-for-Networked-Systems/HW6/HW6_notebook.ipynb#X21sZmlsZQ%3D%3D?line=1'>2</a>\u001b[0m dict2 \u001b[39m=\u001b[39m PageRank(DiG, \u001b[39m0.1\u001b[39m)\n",
      "\u001b[0;31mNameError\u001b[0m: name 'PageRank' is not defined"
     ]
    }
   ],
   "source": [
    "#Creates a dict using the custom PageRank function\n",
    "dict2 = PageRank(DiG)"
   ]
  },
  {
   "cell_type": "code",
   "execution_count": 9,
   "metadata": {},
   "outputs": [
    {
     "ename": "NameError",
     "evalue": "name 'dict2' is not defined",
     "output_type": "error",
     "traceback": [
      "\u001b[0;31m---------------------------------------------------------------------------\u001b[0m",
      "\u001b[0;31mNameError\u001b[0m                                 Traceback (most recent call last)",
      "\u001b[1;32m/Users/wdaugherty/ECE 5260/ECE-5260-Graph-Based-Data-Science-for-Networked-Systems/HW6/HW6_notebook.ipynb Cell 14\u001b[0m in \u001b[0;36m<cell line: 3>\u001b[0;34m()\u001b[0m\n\u001b[1;32m      <a href='vscode-notebook-cell:/Users/wdaugherty/ECE%205260/ECE-5260-Graph-Based-Data-Science-for-Networked-Systems/HW6/HW6_notebook.ipynb#X22sZmlsZQ%3D%3D?line=0'>1</a>\u001b[0m \u001b[39m#Plots the values of the two PageRank output\u001b[39;00m\n\u001b[0;32m----> <a href='vscode-notebook-cell:/Users/wdaugherty/ECE%205260/ECE-5260-Graph-Based-Data-Science-for-Networked-Systems/HW6/HW6_notebook.ipynb#X22sZmlsZQ%3D%3D?line=2'>3</a>\u001b[0m plt\u001b[39m.\u001b[39mplot(\u001b[39mlist\u001b[39m(dict1\u001b[39m.\u001b[39mkeys()), \u001b[39mlist\u001b[39m(dict1\u001b[39m.\u001b[39mvalues()), \u001b[39mlist\u001b[39m(dict2\u001b[39m.\u001b[39mkeys()), \u001b[39mlist\u001b[39m(dict2\u001b[39m.\u001b[39mvalues()))\n",
      "\u001b[0;31mNameError\u001b[0m: name 'dict2' is not defined"
     ]
    }
   ],
   "source": [
    "#Plots the values of the two PageRank output\n",
    "\n",
    "plt.plot(list(dict1.keys()), list(dict1.values()), list(dict2.keys()), list(dict2.values()))"
   ]
  },
  {
   "cell_type": "markdown",
   "metadata": {},
   "source": [
    "# Question 2"
   ]
  },
  {
   "cell_type": "markdown",
   "metadata": {},
   "source": [
    "## Generating a connected random graph\n"
   ]
  },
  {
   "cell_type": "code",
   "execution_count": 8,
   "metadata": {},
   "outputs": [
    {
     "name": "stderr",
     "output_type": "stream",
     "text": [
      "<frozen importlib._bootstrap>:228: RuntimeWarning: scipy._lib.messagestream.MessageStream size changed, may indicate binary incompatibility. Expected 56 from C header, got 64 from PyObject\n"
     ]
    }
   ],
   "source": [
    "G = nx.random_geometric_graph(100, 0.225, 96845)\n"
   ]
  }
 ],
 "metadata": {
  "kernelspec": {
   "display_name": "Python 3.9.12 ('ECE5260')",
   "language": "python",
   "name": "python3"
  },
  "language_info": {
   "codemirror_mode": {
    "name": "ipython",
    "version": 3
   },
   "file_extension": ".py",
   "mimetype": "text/x-python",
   "name": "python",
   "nbconvert_exporter": "python",
   "pygments_lexer": "ipython3",
   "version": "3.9.12"
  },
  "orig_nbformat": 4,
  "vscode": {
   "interpreter": {
    "hash": "76a33d3d7216999da3b78ff763eb57d287db597217ee0040a7c79c5f8c324a68"
   }
  }
 },
 "nbformat": 4,
 "nbformat_minor": 2
}
