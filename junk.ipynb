{
 "cells": [
  {
   "cell_type": "code",
   "execution_count": 1,
   "metadata": {},
   "outputs": [],
   "source": [
    "import numpy as np\n",
    "import pandas as pd\n",
    "from matplotlib import pyplot as plt"
   ]
  },
  {
   "cell_type": "code",
   "execution_count": null,
   "metadata": {},
   "outputs": [],
   "source": [
    "df = pd.read_csv(\"202107-citibike-tripdata.csv\")"
   ]
  },
  {
   "cell_type": "code",
   "execution_count": null,
   "metadata": {},
   "outputs": [],
   "source": [
    "df.head()\n",
    "\n",
    "start_station_counts = df.groupby(by=[\"start_station_name\"]).size().sort_values(ascending=False)\n",
    "end_station_counts = df.groupby(by=[\"end_station_name\"]).size().sort_values(ascending=False)"
   ]
  },
  {
   "cell_type": "code",
   "execution_count": null,
   "metadata": {},
   "outputs": [],
   "source": [
    "start_station_counts.head()"
   ]
  },
  {
   "cell_type": "code",
   "execution_count": null,
   "metadata": {},
   "outputs": [],
   "source": [
    "start_station_counts.head()"
   ]
  },
  {
   "cell_type": "code",
   "execution_count": null,
   "metadata": {},
   "outputs": [],
   "source": [
    "stations_df=durations_df[(durations_df['start_station_name']==\"7 Ave & Central Park South\") | \n",
    "                        (durations_df['end_station_name']==\"7 Ave & Central Park South\") |\n",
    "                        (durations_df['start_station_name']==\"E 17 St & Broadway\") | \n",
    "                        (durations_df['end_station_name']==\"E 17 St & Broadway\") | \n",
    "                        (durations_df['start_station_name']==\"W 21 St & 6 Ave\") | \n",
    "                        (durations_df['end_station_name']==\"W 21 St & 6 Ave\")]"
   ]
  },
  {
   "cell_type": "code",
   "execution_count": null,
   "metadata": {},
   "outputs": [],
   "source": [
    "starts = []\n",
    "ends = []\n",
    "for index, row in stations_df.iterrows():\n",
    "    start_datetime_object = datetime.strptime((row[\"started_at\"]), \"%Y-%m-%d %H:%M:%S\")\n",
    "    end_datetime_object = datetime.strptime((row[\"ended_at\"]), \"%Y-%m-%d %H:%M:%S\")\n",
    "    starts.append(start_datetime_object)\n",
    "    ends.append(end_datetime_object)\n",
    "    \n",
    "    if len(starts) % 10000 == 0:\n",
    "        print(len(starts))"
   ]
  },
  {
   "cell_type": "code",
   "execution_count": null,
   "metadata": {},
   "outputs": [],
   "source": [
    "start_datetime = []\n",
    "for date in starts:\n",
    "    if date.weekday() != 5 and date.weekday() != 6:\n",
    "        start_datetime.append(date)    "
   ]
  },
  {
   "cell_type": "code",
   "execution_count": null,
   "metadata": {},
   "outputs": [],
   "source": [
    "end_datetime = []\n",
    "for date in ends:\n",
    "    if date.weekday() != 5 and date.weekday() != 6:\n",
    "        end_datetime.append(date)   "
   ]
  },
  {
   "cell_type": "code",
   "execution_count": null,
   "metadata": {},
   "outputs": [],
   "source": [
    "stations_weekdays = pd.DataFrame(columns = stations_df.columns)\n",
    "\n",
    "for index, row in stations_df.iterrows():\n",
    "    if (datetime.strptime((row[\"started_at\"]), \"%Y-%m-%d %H:%M:%S\").weekday() != 5\n",
    "    and datetime.strptime((row[\"started_at\"]), \"%Y-%m-%d %H:%M:%S\").weekday() != 6\n",
    "    and datetime.strptime((row[\"ended_at\"]), \"%Y-%m-%d %H:%M:%S\").weekday() != 5\n",
    "    and datetime.strptime((row[\"ended_at\"]), \"%Y-%m-%d %H:%M:%S\").weekday() != 6):\n",
    "        stations_weekdays.loc[index] = stations_df.loc[index]\n",
    "    \n",
    "    if len(stations_weekdays) % 10000 == 0:\n",
    "        print(len(stations_weekdays))"
   ]
  },
  {
   "cell_type": "code",
   "execution_count": null,
   "metadata": {},
   "outputs": [],
   "source": [
    "stations_weekdays = stations_weekdays.loc[:, stations_weekdays.columns != 'index']"
   ]
  },
  {
   "cell_type": "code",
   "execution_count": null,
   "metadata": {},
   "outputs": [],
   "source": [
    "stations_weekdays = stations_weekdays.loc[:, stations_weekdays.columns != 'level_0']"
   ]
  },
  {
   "cell_type": "code",
   "execution_count": null,
   "metadata": {},
   "outputs": [],
   "source": [
    "stations_weekdays[\"start\"] = starts\n",
    "stations_weekdays[\"end\"] = ends"
   ]
  },
  {
   "cell_type": "code",
   "execution_count": null,
   "metadata": {},
   "outputs": [],
   "source": [
    "stations_weekdays = stations_weekdays.loc[:, stations_weekdays.columns != 'started_at']\n",
    "stations_weekdays = stations_weekdays.loc[:, stations_weekdays.columns != 'ended_at']\n",
    "stations_weekdays[\"hour_start\"] = [time.hour for time in stations_weekdays[\"start\"]]"
   ]
  },
  {
   "cell_type": "code",
   "execution_count": null,
   "metadata": {},
   "outputs": [],
   "source": [
    "day_block = []\n",
    "for index, row in stations_weekdays.iterrows():\n",
    "    if row[\"hour_start\"] < 2:\n",
    "        day_block.append(1)\n",
    "    elif row[\"hour_start\"] < 14:\n",
    "        day_block.append(0)\n",
    "    else:\n",
    "        day_block.append(1)"
   ]
  },
  {
   "cell_type": "code",
   "execution_count": null,
   "metadata": {},
   "outputs": [],
   "source": [
    "#Step 1 -- turn \"started_at\" and \"ended_at\" columns to datetime objects\n",
    "starts = []\n",
    "ends = []\n",
    "for index, row in stations_weekdays.iterrows():\n",
    "    start_datetime_object = datetime.strptime((row[\"started_at\"]), \"%Y-%m-%d %H:%M:%S\")\n",
    "    end_datetime_object = datetime.strptime((row[\"ended_at\"]), \"%Y-%m-%d %H:%M:%S\")\n",
    "    starts.append(start_datetime_object)\n",
    "    ends.append(end_datetime_object)\n",
    "    \n",
    "    if len(starts) % 10000 == 0:\n",
    "        print(len(starts))"
   ]
  },
  {
   "cell_type": "code",
   "execution_count": null,
   "metadata": {},
   "outputs": [],
   "source": [
    "stations_weekdays[\"day_block\"] = day_block"
   ]
  },
  {
   "cell_type": "code",
   "execution_count": null,
   "metadata": {},
   "outputs": [],
   "source": [
    "#discretize blocks into periods of 5 or 10 minutes\n",
    "stations_weekdays[\"time\"] = [time.time() for time in stations_weekdays[\"start\"]]"
   ]
  },
  {
   "cell_type": "code",
   "execution_count": null,
   "metadata": {},
   "outputs": [],
   "source": [
    "time_block = [math.floor((time.hour * 60 + time.minute) / 5) for time in stations_weekdays[\"time\"]]"
   ]
  },
  {
   "cell_type": "code",
   "execution_count": null,
   "metadata": {},
   "outputs": [],
   "source": [
    "stations_weekdays[\"time_block\"] = time_block"
   ]
  },
  {
   "cell_type": "code",
   "execution_count": null,
   "metadata": {},
   "outputs": [],
   "source": [
    "stations_weekdays = stations_weekdays.loc[:, stations_weekdays.columns != 'hour']\n",
    "stations_weekdays = stations_weekdays.loc[:, stations_weekdays.columns != 'hour_start']\n",
    "stations_weekdays = stations_weekdays.loc[:, stations_weekdays.columns != 'hour_min']"
   ]
  },
  {
   "cell_type": "code",
   "execution_count": null,
   "metadata": {},
   "outputs": [],
   "source": [
    "day_of_month = []\n",
    "for index, row in stations_weekdays.iterrows():\n",
    "    day_of_month.append(row[\"start\"].day)\n",
    "stations_weekdays[\"day_of_month\"] = day_of_month"
   ]
  },
  {
   "cell_type": "code",
   "execution_count": null,
   "metadata": {},
   "outputs": [],
   "source": [
    "#station_capacities -- collect from google?\n",
    "morning_data = stations_weekdays[stations_weekdays[\"day_block\"] == 0]\n",
    "evening_data = stations_weekdays[stations_weekdays[\"day_block\"] == 1]"
   ]
  },
  {
   "cell_type": "code",
   "execution_count": null,
   "metadata": {},
   "outputs": [],
   "source": [
    "morning_data_station1=morning_data[(morning_data['start_station_name']==\"7 Ave & Central Park South\") | \n",
    "                        (durations_df['end_station_name']==\"7 Ave & Central Park South\")]\n",
    "evening_data_station1=evening_data[(evening_data['start_station_name']==\"7 Ave & Central Park South\") | \n",
    "                        (durations_df['end_station_name']==\"7 Ave & Central Park South\")]\n",
    "morning_data_station2=morning_data[(morning_data['start_station_name']==\"E 17 St & Broadway\") | \n",
    "                        (durations_df['end_station_name']==\"E 17 St & Broadway\")]\n",
    "evening_data_station2=evening_data[(evening_data['start_station_name']==\"E 17 St & Broadway\") | \n",
    "                        (durations_df['end_station_name']==\"E 17 St & Broadway\")]\n",
    "morning_data_station3=morning_data[(morning_data['start_station_name']==\"W 21 St & 6 Ave\") | \n",
    "                        (durations_df['end_station_name']==\"W 21 St & 6 Ave\")]\n",
    "evening_data_station3=evening_data[(evening_data['start_station_name']==\"W 21 St & 6 Ave\") | \n",
    "                        (durations_df['end_station_name']==\"W 21 St & 6 Ave\")]"
   ]
  },
  {
   "cell_type": "code",
   "execution_count": null,
   "metadata": {},
   "outputs": [],
   "source": [
    "bike_change = []\n",
    "for index, row in evening_data_station3.iterrows():\n",
    "    if row[\"start_station_name\"] == \"W 21 St & 6 Ave\" and row[\"end_station_name\"] != \"W 21 St & 6 Ave\":\n",
    "        bike_change.append(-1)\n",
    "    elif row[\"end_station_name\"] == \"W 21 St & 6 Ave\" and row[\"start_station_name\"] != \"W 21 St & 6 Ave\":\n",
    "        bike_change.append(1)\n",
    "    else:\n",
    "        bike_change.append(0)\n",
    "evening_data_station3[\"bike_change\"] = bike_change"
   ]
  },
  {
   "cell_type": "code",
   "execution_count": null,
   "metadata": {},
   "outputs": [],
   "source": [
    "morning_station1_blocked = morning_data_station1.groupby([\"time_block\",\"day_of_month\"])[\"bike_change\"].sum()\n",
    "evening_station1_blocked = evening_data_station1.groupby([\"time_block\",\"day_of_month\"])[\"bike_change\"].sum()\n",
    "morning_station2_blocked = morning_data_station2.groupby([\"time_block\",\"day_of_month\"])[\"bike_change\"].sum()\n",
    "evening_station2_blocked = evening_data_station2.groupby([\"time_block\",\"day_of_month\"])[\"bike_change\"].sum()\n",
    "morning_station3_blocked = morning_data_station3.groupby([\"time_block\",\"day_of_month\"])[\"bike_change\"].sum()\n",
    "evening_station3_blocked = evening_data_station3.groupby([\"time_block\",\"day_of_month\"])[\"bike_change\"].sum()"
   ]
  },
  {
   "cell_type": "code",
   "execution_count": null,
   "metadata": {},
   "outputs": [],
   "source": [
    "from collections import Counter\n",
    "#morning_station1_blocked.values is an array of all the bike change rates over all 5 minute blocks for station 1\n",
    "#during the morning time block\n",
    "counts = Counter(morning_station1_blocked.values)\n",
    "rates_m1=pd.DataFrame(columns=[\"bike_change\",\"probabilities\"])\n",
    "bikes = []\n",
    "probabilities = []\n",
    "\n",
    "total=0\n",
    "for i in counts:\n",
    "    total += counts[i]\n",
    "for i in counts:\n",
    "    bikes.append(i)\n",
    "    probabilities.append(counts[i] / total)\n",
    "\n",
    "rates_m1[\"bike_change\"] = bikes\n",
    "rates_m1[\"probabilities\"] = probabilities\n",
    "bike_change_m1= rates_m1[\"bike_change\"]\n",
    "rates_m1 = rates_m1.set_index(\"bike_change\")"
   ]
  },
  {
   "cell_type": "code",
   "execution_count": null,
   "metadata": {},
   "outputs": [],
   "source": [
    "def P_Matrix(N,)\n",
    "    for i in range(N):\n",
    "        for j in range(N):\n",
    "            if j == i:\n",
    "                P_m1[i][j] = float(rates_m1.loc[0])\n",
    "            elif j>i and j-i in bike_change_m1.values:\n",
    "                P_m1[i][j] = float(rates_m1.loc[j-i])\n",
    "            elif i>j and j-i in bike_change_m1.values:\n",
    "                P_m1[i][j] = float(rates_m1.loc[j-i])\n",
    "            else:\n",
    "                P_m1[i][j] = 0\n",
    "    return "
   ]
  },
  {
   "cell_type": "code",
   "execution_count": null,
   "metadata": {},
   "outputs": [],
   "source": [
    "def find_stationary(P):\n",
    "    from random import seed\n",
    "    from random import random\n",
    "    rowlen = P.shape[1]\n",
    "    state=np.array([np.zeros(rowlen)])\n",
    "    state[0][0] = 1\n",
    "    stateHist=state\n",
    "    dfStateHist=pd.DataFrame(state)\n",
    "    distr_hist = [np.zeros(rowlen)]\n",
    "    for x in range(200):\n",
    "        state=np.dot(state,P)\n",
    "        stateHist=np.append(stateHist,state,axis=0)\n",
    "        dfDistrHist = pd.DataFrame(stateHist)\n",
    "\n",
    "    dfDistrHist.plot(alpha=0.25)\n",
    "    print(state)\n",
    "    plt.legend('',frameon=False)\n",
    "    plt.xlabel(\"iteration\")\n",
    "    plt.show()\n",
    "    plt.plot(np.arange(rowlen),np.ravel(state))\n",
    "    plt.ylabel('long term fraction of time at a state')\n",
    "    plt.xlabel(\"# of bikes\")\n",
    "    plt.show()"
   ]
  },
  {
   "cell_type": "code",
   "execution_count": null,
   "metadata": {},
   "outputs": [],
   "source": []
  }
 ],
 "metadata": {
  "kernelspec": {
   "display_name": "Python 3.9.12 ('venv': venv)",
   "language": "python",
   "name": "python3"
  },
  "language_info": {
   "codemirror_mode": {
    "name": "ipython",
    "version": 3
   },
   "file_extension": ".py",
   "mimetype": "text/x-python",
   "name": "python",
   "nbconvert_exporter": "python",
   "pygments_lexer": "ipython3",
   "version": "3.9.12"
  },
  "orig_nbformat": 4,
  "vscode": {
   "interpreter": {
    "hash": "c07c1c760a03ea9ae946d35b07601f333c8821373c635d95c8ca08939e05fc7c"
   }
  }
 },
 "nbformat": 4,
 "nbformat_minor": 2
}
