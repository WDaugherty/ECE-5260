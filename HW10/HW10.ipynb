{
 "cells": [
  {
   "cell_type": "code",
   "execution_count": null,
   "metadata": {},
   "outputs": [],
   "source": []
  }
 ],
 "metadata": {
  "kernelspec": {
   "display_name": "Python 3.9.12 ('venv': venv)",
   "language": "python",
   "name": "python3"
  },
  "language_info": {
   "name": "python",
   "version": "3.9.12"
  },
  "orig_nbformat": 4,
  "vscode": {
   "interpreter": {
    "hash": "c07c1c760a03ea9ae946d35b07601f333c8821373c635d95c8ca08939e05fc7c"
   }
  }
 },
 "nbformat": 4,
 "nbformat_minor": 2
}
