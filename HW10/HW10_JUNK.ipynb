{
 "cells": [
  {
   "cell_type": "code",
   "execution_count": null,
   "metadata": {},
   "outputs": [],
   "source": []
  }
 ],
 "metadata": {
  "kernelspec": {
   "display_name": "Python 3.9.12 ('ECE5260')",
   "language": "python",
   "name": "python3"
  },
  "language_info": {
   "name": "python",
   "version": "3.9.12"
  },
  "orig_nbformat": 4,
  "vscode": {
   "interpreter": {
    "hash": "76a33d3d7216999da3b78ff763eb57d287db597217ee0040a7c79c5f8c324a68"
   }
  }
 },
 "nbformat": 4,
 "nbformat_minor": 2
}
